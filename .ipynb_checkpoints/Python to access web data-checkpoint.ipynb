{
 "cells": [
  {
   "cell_type": "markdown",
   "metadata": {
    "toc": true
   },
   "source": [
    "<h1>Table of Contents<span class=\"tocSkip\"></span></h1>\n",
    "<div class=\"toc\"><ul class=\"toc-item\"></ul></div>"
   ]
  },
  {
   "cell_type": "code",
   "execution_count": 1,
   "metadata": {
    "ExecuteTime": {
     "end_time": "2020-02-25T13:18:26.491765Z",
     "start_time": "2020-02-25T13:18:26.487453Z"
    }
   },
   "outputs": [],
   "source": [
    "import re"
   ]
  },
  {
   "cell_type": "code",
   "execution_count": 22,
   "metadata": {
    "ExecuteTime": {
     "end_time": "2020-02-25T13:37:34.766588Z",
     "start_time": "2020-02-25T13:37:34.755590Z"
    }
   },
   "outputs": [
    {
     "name": "stdout",
     "output_type": "stream",
     "text": [
      "279406 60\n"
     ]
    }
   ],
   "source": [
    "fh = open('regex_sum_378625.txt')\n",
    "total = 0\n",
    "count = 0\n",
    "for line in fh:\n",
    "    num = re.findall('\\d+',line)\n",
    "    if not len(num) > 0 : continue\n",
    "    else: \n",
    "        count += len(num)\n",
    "        \n",
    "        # list comprehension\n",
    "        lst =[int(i) for i in num]\n",
    "        total += sum(lst) \n",
    "print(total,count)\n",
    "       \n",
    "    \n",
    "\n",
    "    "
   ]
  },
  {
   "cell_type": "code",
   "execution_count": 23,
   "metadata": {
    "ExecuteTime": {
     "end_time": "2020-02-25T14:17:31.464617Z",
     "start_time": "2020-02-25T14:17:31.446280Z"
    }
   },
   "outputs": [],
   "source": [
    "str=\"\"\"52.84.246.90    d3c33hcgiwev3.cloudfront.net\n",
    "52.84.246.252    d3c33hcgiwev3.cloudfront.net\n",
    "52.84.246.144    d3c33hcgiwev3.cloudfront.net\n",
    "52.84.246.72    d3c33hcgiwev3.cloudfront.net\n",
    "52.84.246.106    d3c33hcgiwev3.cloudfront.net\n",
    "52.84.246.135    d3c33hcgiwev3.cloudfront.net\n",
    "52.84.246.114    d3c33hcgiwev3.cloudfront.net\n",
    "52.84.246.90    d3c33hcgiwev3.cloudfront.net\n",
    "52.84.246.227    d3c33hcgiwev3.cloudfront.net\"\"\""
   ]
  },
  {
   "cell_type": "code",
   "execution_count": 24,
   "metadata": {
    "ExecuteTime": {
     "end_time": "2020-02-25T14:17:37.331574Z",
     "start_time": "2020-02-25T14:17:37.326609Z"
    }
   },
   "outputs": [
    {
     "data": {
      "text/plain": [
       "'52.84.246.90    d3c33hcgiwev3.cloudfront.net\\n52.84.246.252    d3c33hcgiwev3.cloudfront.net\\n52.84.246.144    d3c33hcgiwev3.cloudfront.net\\n52.84.246.72    d3c33hcgiwev3.cloudfront.net\\n52.84.246.106    d3c33hcgiwev3.cloudfront.net\\n52.84.246.135    d3c33hcgiwev3.cloudfront.net\\n52.84.246.114    d3c33hcgiwev3.cloudfront.net\\n52.84.246.90    d3c33hcgiwev3.cloudfront.net\\n52.84.246.227    d3c33hcgiwev3.cloudfront.net'"
      ]
     },
     "execution_count": 24,
     "metadata": {},
     "output_type": "execute_result"
    }
   ],
   "source": [
    "str"
   ]
  },
  {
   "cell_type": "code",
   "execution_count": 25,
   "metadata": {
    "ExecuteTime": {
     "end_time": "2020-02-25T14:18:34.563021Z",
     "start_time": "2020-02-25T14:18:34.560036Z"
    }
   },
   "outputs": [],
   "source": [
    "import re"
   ]
  },
  {
   "cell_type": "code",
   "execution_count": 31,
   "metadata": {
    "ExecuteTime": {
     "end_time": "2020-02-25T14:21:00.525540Z",
     "start_time": "2020-02-25T14:21:00.521783Z"
    }
   },
   "outputs": [],
   "source": [
    "ip_adress = re.findall('\\d+.\\d+.\\d+.\\d+',str)"
   ]
  },
  {
   "cell_type": "code",
   "execution_count": 1,
   "metadata": {
    "ExecuteTime": {
     "end_time": "2020-02-26T15:05:01.686728Z",
     "start_time": "2020-02-26T15:05:01.682738Z"
    }
   },
   "outputs": [],
   "source": [
    "import socket\n",
    "\n",
    "mysock = socket.socket(socket.AF_INET, socket.SOCK_STREAM)"
   ]
  },
  {
   "cell_type": "code",
   "execution_count": 2,
   "metadata": {
    "ExecuteTime": {
     "end_time": "2020-02-26T15:05:05.353513Z",
     "start_time": "2020-02-26T15:05:05.348525Z"
    }
   },
   "outputs": [
    {
     "ename": "SyntaxError",
     "evalue": "unexpected EOF while parsing (<ipython-input-2-258911077f90>, line 1)",
     "output_type": "error",
     "traceback": [
      "\u001b[1;36m  File \u001b[1;32m\"<ipython-input-2-258911077f90>\"\u001b[1;36m, line \u001b[1;32m1\u001b[0m\n\u001b[1;33m    mysock.connect(('data.pr4e.org', 80)\u001b[0m\n\u001b[1;37m                                        ^\u001b[0m\n\u001b[1;31mSyntaxError\u001b[0m\u001b[1;31m:\u001b[0m unexpected EOF while parsing\n"
     ]
    }
   ],
   "source": [
    "mysock.connect(('data.pr4e.org', 80))"
   ]
  },
  {
   "cell_type": "code",
   "execution_count": 14,
   "metadata": {
    "ExecuteTime": {
     "end_time": "2020-02-26T12:38:54.749117Z",
     "start_time": "2020-02-26T12:38:54.743097Z"
    }
   },
   "outputs": [
    {
     "ename": "SyntaxError",
     "evalue": "invalid syntax (<ipython-input-14-84138ac01df1>, line 3)",
     "output_type": "error",
     "traceback": [
      "\u001b[1;36m  File \u001b[1;32m\"<ipython-input-14-84138ac01df1>\"\u001b[1;36m, line \u001b[1;32m3\u001b[0m\n\u001b[1;33m    mysock.send('GET http://data.pr4e.org/intro-short.txt HTTP1.0\\n\\n'.encode())\u001b[0m\n\u001b[1;37m         ^\u001b[0m\n\u001b[1;31mSyntaxError\u001b[0m\u001b[1;31m:\u001b[0m invalid syntax\n"
     ]
    }
   ],
   "source": [
    "mysock.send('GET http://data.pr4e.org/intro-short.txt HTTP1.0\\n\\n'.encode())\n",
    "\n",
    "while True:\n",
    "    data = mysock.recv(512)\n",
    "    if len(data) < 1:\n",
    "        break\n",
    "    print(data.decode(),end='')\n",
    "\n",
    "mysock.close()"
   ]
  },
  {
   "cell_type": "code",
   "execution_count": 7,
   "metadata": {
    "ExecuteTime": {
     "end_time": "2020-02-26T12:37:45.145847Z",
     "start_time": "2020-02-26T12:37:45.141858Z"
    }
   },
   "outputs": [],
   "source": [
    "import socket\n",
    "mysock= socket.socket(socket.AF_INET, socket.SOCK_STREAM)\n"
   ]
  },
  {
   "cell_type": "code",
   "execution_count": 12,
   "metadata": {
    "ExecuteTime": {
     "end_time": "2020-02-26T12:38:36.488047Z",
     "start_time": "2020-02-26T12:38:36.482060Z"
    }
   },
   "outputs": [],
   "source": [
    "mysock.send?\n"
   ]
  },
  {
   "cell_type": "code",
   "execution_count": null,
   "metadata": {},
   "outputs": [],
   "source": []
  }
 ],
 "metadata": {
  "kernelspec": {
   "display_name": "Python 3",
   "language": "python",
   "name": "python3"
  },
  "language_info": {
   "codemirror_mode": {
    "name": "ipython",
    "version": 3
   },
   "file_extension": ".py",
   "mimetype": "text/x-python",
   "name": "python",
   "nbconvert_exporter": "python",
   "pygments_lexer": "ipython3",
   "version": "3.7.4"
  },
  "toc": {
   "base_numbering": 1,
   "nav_menu": {},
   "number_sections": true,
   "sideBar": true,
   "skip_h1_title": true,
   "title_cell": "Table of Contents",
   "title_sidebar": "Contents",
   "toc_cell": true,
   "toc_position": {},
   "toc_section_display": true,
   "toc_window_display": true
  },
  "varInspector": {
   "cols": {
    "lenName": 16,
    "lenType": 16,
    "lenVar": 40
   },
   "kernels_config": {
    "python": {
     "delete_cmd_postfix": "",
     "delete_cmd_prefix": "del ",
     "library": "var_list.py",
     "varRefreshCmd": "print(var_dic_list())"
    },
    "r": {
     "delete_cmd_postfix": ") ",
     "delete_cmd_prefix": "rm(",
     "library": "var_list.r",
     "varRefreshCmd": "cat(var_dic_list()) "
    }
   },
   "types_to_exclude": [
    "module",
    "function",
    "builtin_function_or_method",
    "instance",
    "_Feature"
   ],
   "window_display": false
  }
 },
 "nbformat": 4,
 "nbformat_minor": 2
}
