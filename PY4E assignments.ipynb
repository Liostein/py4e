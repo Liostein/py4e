{
 "cells": [
  {
   "cell_type": "markdown",
   "metadata": {
    "toc": true
   },
   "source": [
    "<h1>Table of Contents<span class=\"tocSkip\"></span></h1>\n",
    "<div class=\"toc\"><ul class=\"toc-item\"></ul></div>"
   ]
  },
  {
   "cell_type": "code",
   "execution_count": null,
   "metadata": {
    "ExecuteTime": {
     "start_time": "2020-02-25T12:25:45.426Z"
    }
   },
   "outputs": [],
   "source": [
    "%config Completer.use_jedi = False"
   ]
  },
  {
   "cell_type": "code",
   "execution_count": 2,
   "metadata": {
    "ExecuteTime": {
     "end_time": "2020-02-25T10:47:28.441898Z",
     "start_time": "2020-02-25T10:47:27.442059Z"
    }
   },
   "outputs": [],
   "source": [
    "import pandas as pd \n",
    "import numpy as np"
   ]
  },
  {
   "cell_type": "code",
   "execution_count": 3,
   "metadata": {
    "ExecuteTime": {
     "end_time": "2020-02-25T10:47:28.459946Z",
     "start_time": "2020-02-25T10:47:28.441898Z"
    }
   },
   "outputs": [
    {
     "data": {
      "text/plain": [
       "1"
      ]
     },
     "execution_count": 3,
     "metadata": {},
     "output_type": "execute_result"
    }
   ],
   "source": [
    "np.random.binomial(1,0.5)"
   ]
  },
  {
   "cell_type": "code",
   "execution_count": 4,
   "metadata": {
    "ExecuteTime": {
     "end_time": "2020-02-25T10:47:28.494496Z",
     "start_time": "2020-02-25T10:47:28.460933Z"
    }
   },
   "outputs": [
    {
     "data": {
      "text/plain": [
       "0.496"
      ]
     },
     "execution_count": 4,
     "metadata": {},
     "output_type": "execute_result"
    }
   ],
   "source": [
    "np.random.binomial(1000,.5)/1000"
   ]
  },
  {
   "cell_type": "code",
   "execution_count": 5,
   "metadata": {
    "ExecuteTime": {
     "end_time": "2020-02-25T10:47:28.527446Z",
     "start_time": "2020-02-25T10:47:28.495498Z"
    }
   },
   "outputs": [
    {
     "data": {
      "text/plain": [
       "10000"
      ]
     },
     "execution_count": 5,
     "metadata": {},
     "output_type": "execute_result"
    }
   ],
   "source": [
    "x = np.random.binomial(20,0.5,10000)\n",
    "len(x)"
   ]
  },
  {
   "cell_type": "code",
   "execution_count": 6,
   "metadata": {
    "ExecuteTime": {
     "end_time": "2020-02-25T10:47:28.562347Z",
     "start_time": "2020-02-25T10:47:28.529401Z"
    }
   },
   "outputs": [
    {
     "data": {
      "text/plain": [
       "0.0215"
      ]
     },
     "execution_count": 6,
     "metadata": {},
     "output_type": "execute_result"
    }
   ],
   "source": [
    "# x>=15 return [1 0 1 0 1 0 0]\n",
    "(x>=15).mean()"
   ]
  },
  {
   "cell_type": "code",
   "execution_count": 7,
   "metadata": {
    "ExecuteTime": {
     "end_time": "2020-02-25T10:47:28.608201Z",
     "start_time": "2020-02-25T10:47:28.564311Z"
    }
   },
   "outputs": [],
   "source": [
    "chance_of_tornado = 0.01 / 100"
   ]
  },
  {
   "cell_type": "code",
   "execution_count": 8,
   "metadata": {
    "ExecuteTime": {
     "end_time": "2020-02-25T10:47:28.640108Z",
     "start_time": "2020-02-25T10:47:28.613196Z"
    }
   },
   "outputs": [
    {
     "data": {
      "text/plain": [
       "3"
      ]
     },
     "execution_count": 8,
     "metadata": {},
     "output_type": "execute_result"
    }
   ],
   "source": [
    "np.random.binomial(10000,chance_of_tornado)"
   ]
  },
  {
   "cell_type": "code",
   "execution_count": 9,
   "metadata": {
    "ExecuteTime": {
     "end_time": "2020-02-25T10:47:28.693043Z",
     "start_time": "2020-02-25T10:47:28.642103Z"
    }
   },
   "outputs": [],
   "source": [
    "chance_of_tornado = 0.01\n",
    "tornado_events =  np.random.binomial(1,chance_of_tornado,1000000)"
   ]
  },
  {
   "cell_type": "code",
   "execution_count": 10,
   "metadata": {
    "ExecuteTime": {
     "end_time": "2020-02-25T10:47:29.222144Z",
     "start_time": "2020-02-25T10:47:28.693962Z"
    }
   },
   "outputs": [
    {
     "name": "stdout",
     "output_type": "stream",
     "text": [
      "99 tornados back to back in 2739.72602739726 years.\n"
     ]
    }
   ],
   "source": [
    "two_days_in_a_row = 0\n",
    "#100days have 100 -1 two_day_in_a_row, 100-1 intervals\n",
    "for j in range(1, len(tornado_events) -1):\n",
    "    if tornado_events[j] ==1 & tornado_events[j-1]==1:\n",
    "        two_days_in_a_row +=1\n",
    "print('{} tornados back to back in {} years.'.format(two_days_in_a_row,1000000/365))"
   ]
  },
  {
   "cell_type": "code",
   "execution_count": 11,
   "metadata": {
    "ExecuteTime": {
     "end_time": "2020-02-25T10:47:29.229096Z",
     "start_time": "2020-02-25T10:47:29.223115Z"
    }
   },
   "outputs": [
    {
     "data": {
      "text/plain": [
       "[1, 2, 3, 4, 5, 6, 7, 8, 9, 10, 11, 12, 13, 14, 15, 16, 17, 18]"
      ]
     },
     "execution_count": 11,
     "metadata": {},
     "output_type": "execute_result"
    }
   ],
   "source": [
    "[x for x in range (1,19)]"
   ]
  },
  {
   "cell_type": "code",
   "execution_count": 12,
   "metadata": {
    "ExecuteTime": {
     "end_time": "2020-02-25T10:47:30.011564Z",
     "start_time": "2020-02-25T10:47:29.230092Z"
    },
    "scrolled": true
   },
   "outputs": [
    {
     "name": "stdout",
     "output_type": "stream",
     "text": [
      "Enter the file name:\n",
      "cwen@iupui.edu 5\n"
     ]
    }
   ],
   "source": [
    "fname = input('Enter the file name:')\n",
    "if len(fname) < 1:\n",
    "    fname = \"mbox-short.txt\"\n",
    "fh = open(fname)\n",
    "count = dict()\n",
    "for line in fh:\n",
    "    line = line.rstrip()\n",
    "    if line.startswith('From '):\n",
    "        email = line.split()[1]\n",
    "        count[email] =count.get(email,0)+1\n",
    "#print(count)\n",
    "mx = 0\n",
    "for emaill in count:\n",
    "    if count.get(email) > mx:\n",
    "        \n",
    "        name = email\n",
    "        mx = count.get(email)\n",
    "print(name, mx)\n"
   ]
  },
  {
   "cell_type": "code",
   "execution_count": 25,
   "metadata": {
    "ExecuteTime": {
     "end_time": "2020-02-25T10:49:44.487738Z",
     "start_time": "2020-02-25T10:49:43.987190Z"
    }
   },
   "outputs": [
    {
     "name": "stdout",
     "output_type": "stream",
     "text": [
      "Enter the file name:\n",
      "04 3\n",
      "06 1\n",
      "07 1\n",
      "09 2\n",
      "10 3\n",
      "11 6\n",
      "14 1\n",
      "15 2\n",
      "16 4\n",
      "17 2\n",
      "18 1\n",
      "19 1\n"
     ]
    }
   ],
   "source": [
    "fname = input('Enter the file name:')\n",
    "if len(fname) < 1:\n",
    "    fname = \"mbox-short.txt\"\n",
    "fh = open(fname)\n",
    "count = dict()\n",
    "\n",
    "for line in fh:\n",
    "    line = line.rstrip()\n",
    "    if line.startswith('From '):\n",
    "        time = line.split()[-2]\n",
    "        #print(time)\n",
    "        hour = time.split(\":\")[0]\n",
    "        count[hour] =count.get(hour,0)+1\n",
    "        \n",
    "#print(count)\n",
    "\n",
    "lst = list(count.keys())\n",
    "for i in sorted(lst):\n",
    "    print (i,count.get(i)) \n"
   ]
  },
  {
   "cell_type": "code",
   "execution_count": 7,
   "metadata": {
    "ExecuteTime": {
     "end_time": "2020-02-25T12:22:15.799686Z",
     "start_time": "2020-02-25T12:22:15.304631Z"
    }
   },
   "outputs": [
    {
     "name": "stdout",
     "output_type": "stream",
     "text": [
      "Enter file name: \n",
      "X-DSPAM-Confidence: 0.7507185185185187\n"
     ]
    }
   ],
   "source": [
    "# Use the file name mbox-short.txt as the file name\n",
    "fname = input(\"Enter file name: \")\n",
    "if len(fname) < 1:\n",
    "    fname = \"mbox-short.txt\"\n",
    "fh = open(fname)\n",
    "total = 0\n",
    "count = 0\n",
    "for line in fh:\n",
    "    if not line.startswith(\"X-DSPAM-Confidence:\") : continue\n",
    "    else:\n",
    "        line = line.rstrip()\n",
    "        total += float(line.split()[1])\n",
    "        count += 1\n",
    "print(\"X-DSPAM-Confidence:\",total/count)\n",
    "    \n",
    "    \n"
   ]
  }
 ],
 "metadata": {
  "kernelspec": {
   "display_name": "Python 3",
   "language": "python",
   "name": "python3"
  },
  "language_info": {
   "codemirror_mode": {
    "name": "ipython",
    "version": 3
   },
   "file_extension": ".py",
   "mimetype": "text/x-python",
   "name": "python",
   "nbconvert_exporter": "python",
   "pygments_lexer": "ipython3",
   "version": "3.7.4"
  },
  "toc": {
   "base_numbering": 1,
   "nav_menu": {},
   "number_sections": true,
   "sideBar": true,
   "skip_h1_title": true,
   "title_cell": "Table of Contents",
   "title_sidebar": "Contents",
   "toc_cell": true,
   "toc_position": {},
   "toc_section_display": true,
   "toc_window_display": true
  },
  "varInspector": {
   "cols": {
    "lenName": 16,
    "lenType": 16,
    "lenVar": 40
   },
   "kernels_config": {
    "python": {
     "delete_cmd_postfix": "",
     "delete_cmd_prefix": "del ",
     "library": "var_list.py",
     "varRefreshCmd": "print(var_dic_list())"
    },
    "r": {
     "delete_cmd_postfix": ") ",
     "delete_cmd_prefix": "rm(",
     "library": "var_list.r",
     "varRefreshCmd": "cat(var_dic_list()) "
    }
   },
   "types_to_exclude": [
    "module",
    "function",
    "builtin_function_or_method",
    "instance",
    "_Feature"
   ],
   "window_display": false
  }
 },
 "nbformat": 4,
 "nbformat_minor": 4
}
