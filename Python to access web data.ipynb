{
 "cells": [
  {
   "cell_type": "markdown",
   "metadata": {
    "toc": true
   },
   "source": [
    "<h1>Table of Contents<span class=\"tocSkip\"></span></h1>\n",
    "<div class=\"toc\"><ul class=\"toc-item\"></ul></div>"
   ]
  },
  {
   "cell_type": "code",
   "execution_count": 1,
   "metadata": {
    "ExecuteTime": {
     "end_time": "2020-02-25T13:18:26.491765Z",
     "start_time": "2020-02-25T13:18:26.487453Z"
    }
   },
   "outputs": [],
   "source": [
    "import re"
   ]
  },
  {
   "cell_type": "code",
   "execution_count": 22,
   "metadata": {
    "ExecuteTime": {
     "end_time": "2020-02-25T13:37:34.766588Z",
     "start_time": "2020-02-25T13:37:34.755590Z"
    }
   },
   "outputs": [
    {
     "name": "stdout",
     "output_type": "stream",
     "text": [
      "279406 60\n"
     ]
    }
   ],
   "source": [
    "fh = open('regex_sum_378625.txt')\n",
    "total = 0\n",
    "count = 0\n",
    "for line in fh:\n",
    "    num = re.findall('\\d+',line)\n",
    "    if not len(num) > 0 : continue\n",
    "    else: \n",
    "        count += len(num)\n",
    "        \n",
    "        # list comprehension\n",
    "        lst =[int(i) for i in num]\n",
    "        total += sum(lst) \n",
    "print(total,count)\n",
    "       \n",
    "    \n",
    "\n",
    "    "
   ]
  },
  {
   "cell_type": "code",
   "execution_count": 23,
   "metadata": {
    "ExecuteTime": {
     "end_time": "2020-02-25T14:17:31.464617Z",
     "start_time": "2020-02-25T14:17:31.446280Z"
    }
   },
   "outputs": [],
   "source": [
    "str=\"\"\"52.84.246.90    d3c33hcgiwev3.cloudfront.net\n",
    "52.84.246.252    d3c33hcgiwev3.cloudfront.net\n",
    "52.84.246.144    d3c33hcgiwev3.cloudfront.net\n",
    "52.84.246.72    d3c33hcgiwev3.cloudfront.net\n",
    "52.84.246.106    d3c33hcgiwev3.cloudfront.net\n",
    "52.84.246.135    d3c33hcgiwev3.cloudfront.net\n",
    "52.84.246.114    d3c33hcgiwev3.cloudfront.net\n",
    "52.84.246.90    d3c33hcgiwev3.cloudfront.net\n",
    "52.84.246.227    d3c33hcgiwev3.cloudfront.net\"\"\""
   ]
  },
  {
   "cell_type": "code",
   "execution_count": 24,
   "metadata": {
    "ExecuteTime": {
     "end_time": "2020-02-25T14:17:37.331574Z",
     "start_time": "2020-02-25T14:17:37.326609Z"
    }
   },
   "outputs": [
    {
     "data": {
      "text/plain": [
       "'52.84.246.90    d3c33hcgiwev3.cloudfront.net\\n52.84.246.252    d3c33hcgiwev3.cloudfront.net\\n52.84.246.144    d3c33hcgiwev3.cloudfront.net\\n52.84.246.72    d3c33hcgiwev3.cloudfront.net\\n52.84.246.106    d3c33hcgiwev3.cloudfront.net\\n52.84.246.135    d3c33hcgiwev3.cloudfront.net\\n52.84.246.114    d3c33hcgiwev3.cloudfront.net\\n52.84.246.90    d3c33hcgiwev3.cloudfront.net\\n52.84.246.227    d3c33hcgiwev3.cloudfront.net'"
      ]
     },
     "execution_count": 24,
     "metadata": {},
     "output_type": "execute_result"
    }
   ],
   "source": [
    "str"
   ]
  },
  {
   "cell_type": "code",
   "execution_count": 25,
   "metadata": {
    "ExecuteTime": {
     "end_time": "2020-02-25T14:18:34.563021Z",
     "start_time": "2020-02-25T14:18:34.560036Z"
    }
   },
   "outputs": [],
   "source": [
    "import re"
   ]
  },
  {
   "cell_type": "code",
   "execution_count": 31,
   "metadata": {
    "ExecuteTime": {
     "end_time": "2020-02-25T14:21:00.525540Z",
     "start_time": "2020-02-25T14:21:00.521783Z"
    }
   },
   "outputs": [],
   "source": [
    "ip_adress = re.findall('\\d+.\\d+.\\d+.\\d+',str)"
   ]
  },
  {
   "cell_type": "code",
   "execution_count": 1,
   "metadata": {
    "ExecuteTime": {
     "end_time": "2020-02-26T15:05:01.686728Z",
     "start_time": "2020-02-26T15:05:01.682738Z"
    }
   },
   "outputs": [],
   "source": [
    "import socket\n",
    "\n",
    "mysock = socket.socket(socket.AF_INET, socket.SOCK_STREAM)"
   ]
  },
  {
   "cell_type": "code",
   "execution_count": 5,
   "metadata": {
    "ExecuteTime": {
     "end_time": "2020-02-26T15:06:29.790825Z",
     "start_time": "2020-02-26T15:06:08.742916Z"
    }
   },
   "outputs": [
    {
     "ename": "TimeoutError",
     "evalue": "[WinError 10060] 由于连接方在一段时间后没有正确答复或连接的主机没有反应，连接尝试失败。",
     "output_type": "error",
     "traceback": [
      "\u001b[1;31m---------------------------------------------------------------------------\u001b[0m",
      "\u001b[1;31mTimeoutError\u001b[0m                              Traceback (most recent call last)",
      "\u001b[1;32m<ipython-input-5-d882005446a4>\u001b[0m in \u001b[0;36m<module>\u001b[1;34m\u001b[0m\n\u001b[1;32m----> 1\u001b[1;33m \u001b[0mmysock\u001b[0m\u001b[1;33m.\u001b[0m\u001b[0mconnect\u001b[0m\u001b[1;33m(\u001b[0m\u001b[1;33m(\u001b[0m\u001b[1;34m'data.pr4e.org'\u001b[0m\u001b[1;33m,\u001b[0m\u001b[1;36m80\u001b[0m\u001b[1;33m)\u001b[0m\u001b[1;33m)\u001b[0m\u001b[1;33m\u001b[0m\u001b[1;33m\u001b[0m\u001b[0m\n\u001b[0m",
      "\u001b[1;31mTimeoutError\u001b[0m: [WinError 10060] 由于连接方在一段时间后没有正确答复或连接的主机没有反应，连接尝试失败。"
     ]
    }
   ],
   "source": [
    "mysock.connect(('data.pr4e.org',80))"
   ]
  },
  {
   "cell_type": "code",
   "execution_count": 14,
   "metadata": {
    "ExecuteTime": {
     "end_time": "2020-02-26T12:38:54.749117Z",
     "start_time": "2020-02-26T12:38:54.743097Z"
    }
   },
   "outputs": [
    {
     "ename": "SyntaxError",
     "evalue": "invalid syntax (<ipython-input-14-84138ac01df1>, line 3)",
     "output_type": "error",
     "traceback": [
      "\u001b[1;36m  File \u001b[1;32m\"<ipython-input-14-84138ac01df1>\"\u001b[1;36m, line \u001b[1;32m3\u001b[0m\n\u001b[1;33m    mysock.send('GET http://data.pr4e.org/intro-short.txt HTTP1.0\\n\\n'.encode())\u001b[0m\n\u001b[1;37m         ^\u001b[0m\n\u001b[1;31mSyntaxError\u001b[0m\u001b[1;31m:\u001b[0m invalid syntax\n"
     ]
    }
   ],
   "source": [
    "mysock.send('GET http://data.pr4e.org/intro-short.txt HTTP1.0\\n\\n'.encode())\n",
    "\n",
    "while True:\n",
    "    data = mysock.recv(512)\n",
    "    if len(data) < 1:\n",
    "        break\n",
    "    print(data.decode(),end='')\n",
    "\n",
    "mysock.close()"
   ]
  },
  {
   "cell_type": "code",
   "execution_count": 7,
   "metadata": {
    "ExecuteTime": {
     "end_time": "2020-02-26T12:37:45.145847Z",
     "start_time": "2020-02-26T12:37:45.141858Z"
    }
   },
   "outputs": [],
   "source": [
    "import socket\n",
    "mysock= socket.socket(socket.AF_INET, socket.SOCK_STREAM)\n"
   ]
  },
  {
   "cell_type": "code",
   "execution_count": 12,
   "metadata": {
    "ExecuteTime": {
     "end_time": "2020-02-26T12:38:36.488047Z",
     "start_time": "2020-02-26T12:38:36.482060Z"
    }
   },
   "outputs": [],
   "source": [
    "mysock.send?\n"
   ]
  },
  {
   "cell_type": "code",
   "execution_count": 5,
   "metadata": {
    "ExecuteTime": {
     "end_time": "2020-02-27T03:56:18.550386Z",
     "start_time": "2020-02-27T03:56:11.199767Z"
    }
   },
   "outputs": [
    {
     "name": "stdout",
     "output_type": "stream",
     "text": [
      "Enter - http://py4e-data.dr-chuck.net/comments_42.html\n"
     ]
    }
   ],
   "source": [
    "# To run this, download the BeautifulSoup zip file\n",
    "# http://www.py4e.com/code3/bs4.zip\n",
    "# and unzip it in the same directory as this file\n",
    "\n",
    "from urllib.request import urlopen\n",
    "from bs4 import BeautifulSoup\n",
    "import ssl\n",
    "\n",
    "# Ignore SSL certificate errors\n",
    "ctx = ssl.create_default_context()\n",
    "ctx.check_hostname = False\n",
    "ctx.verify_mode = ssl.CERT_NONE\n",
    "\n",
    "url = input('Enter - ')\n",
    "html = urlopen(url, context=ctx).read()\n",
    "soup = BeautifulSoup(html, \"html.parser\")\n",
    "\n",
    "# Retrieve all of the anchor tags\n",
    "tags = soup('a')\n",
    "for tag in tags:\n",
    "    # Look at the parts of a tag\n",
    "\n",
    "    print('TAG:', tag)\n",
    "    print('URL:', tag.get('href', None))\n",
    "    print('Contents:', tag.contents[0])\n",
    "    print('Attrs:', tag.attrs)"
   ]
  },
  {
   "cell_type": "code",
   "execution_count": 3,
   "metadata": {
    "ExecuteTime": {
     "end_time": "2020-02-27T03:55:09.176495Z",
     "start_time": "2020-02-27T03:55:09.172521Z"
    }
   },
   "outputs": [],
   "source": []
  },
  {
   "cell_type": "code",
   "execution_count": null,
   "metadata": {},
   "outputs": [],
   "source": []
  }
 ],
 "metadata": {
  "kernelspec": {
   "display_name": "Python 3",
   "language": "python",
   "name": "python3"
  },
  "language_info": {
   "codemirror_mode": {
    "name": "ipython",
    "version": 3
   },
   "file_extension": ".py",
   "mimetype": "text/x-python",
   "name": "python",
   "nbconvert_exporter": "python",
   "pygments_lexer": "ipython3",
   "version": "3.7.4"
  },
  "toc": {
   "base_numbering": 1,
   "nav_menu": {},
   "number_sections": true,
   "sideBar": true,
   "skip_h1_title": true,
   "title_cell": "Table of Contents",
   "title_sidebar": "Contents",
   "toc_cell": true,
   "toc_position": {},
   "toc_section_display": true,
   "toc_window_display": true
  },
  "varInspector": {
   "cols": {
    "lenName": 16,
    "lenType": 16,
    "lenVar": 40
   },
   "kernels_config": {
    "python": {
     "delete_cmd_postfix": "",
     "delete_cmd_prefix": "del ",
     "library": "var_list.py",
     "varRefreshCmd": "print(var_dic_list())"
    },
    "r": {
     "delete_cmd_postfix": ") ",
     "delete_cmd_prefix": "rm(",
     "library": "var_list.r",
     "varRefreshCmd": "cat(var_dic_list()) "
    }
   },
   "types_to_exclude": [
    "module",
    "function",
    "builtin_function_or_method",
    "instance",
    "_Feature"
   ],
   "window_display": false
  }
 },
 "nbformat": 4,
 "nbformat_minor": 2
}
